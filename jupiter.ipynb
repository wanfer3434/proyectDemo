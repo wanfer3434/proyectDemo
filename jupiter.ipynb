{
 "cells": [
  {
   "cell_type": "code",
   "execution_count": null,
   "metadata": {},
   "outputs": [
    {
     "ename": "",
     "evalue": "",
     "output_type": "error",
     "traceback": [
      "\u001b[1;31mNo se pudo iniciar el Kernel. \n",
      "\u001b[1;31mNo se puede iniciar Kernel 'Python 3.8.10 64-bit' porque se agotó el tiempo de espera de la conexión. \n",
      "\u001b[1;31mVea el [registro] de Jupyter (command:jupyter.viewOutput) para obtener más detalles."
     ]
    }
   ],
   "source": [
    "print('hola princesa')"
   ]
  },
  {
   "cell_type": "markdown",
   "metadata": {},
   "source": [
    "diccionarios comprehensions"
   ]
  },
  {
   "cell_type": "code",
   "execution_count": null,
   "metadata": {},
   "outputs": [
    {
     "ename": "",
     "evalue": "",
     "output_type": "error",
     "traceback": [
      "\u001b[1;31mNo se pudo iniciar el Kernel. \n",
      "\u001b[1;31mNo se puede iniciar Kernel 'Python 3.8.10 64-bit' porque se agotó el tiempo de espera de la conexión. \n",
      "\u001b[1;31mVea el [registro] de Jupyter (command:jupyter.viewOutput) para obtener más detalles."
     ]
    }
   ],
   "source": [
    "def run():\n",
    "    my_dict={}\n",
    "\n",
    "    for i in range(1,101):\n",
    "        if i % 3 != 0:\n",
    "            my_dict[i]= i**3\n",
    "    print(my_dict)\n",
    "\n",
    "if __name__ == '__main__':\n",
    "    run()"
   ]
  },
  {
   "cell_type": "markdown",
   "metadata": {},
   "source": [
    "dict_comprehensions"
   ]
  },
  {
   "cell_type": "code",
   "execution_count": null,
   "metadata": {},
   "outputs": [],
   "source": [
    "def run():\n",
    "    my_dict={i: i**3 for i in range(1,101) if i % 3 != 0}\n",
    "    print(my_dict)\n",
    "if __name__ == '__main__':\n",
    "    run()"
   ]
  },
  {
   "cell_type": "markdown",
   "metadata": {},
   "source": [
    "ejercice_comprehensions"
   ]
  },
  {
   "cell_type": "code",
   "execution_count": null,
   "metadata": {},
   "outputs": [],
   "source": [
    "import math\n",
    "def run():\n",
    "    my_dict2={i: math.sqrt(i) for i in range(1,1001)}\n",
    "    print(my_dict2)\n",
    "    print(\"javier como ha estado\")\n",
    "if __name__ == '__main__':\n",
    "    run()"
   ]
  },
  {
   "cell_type": "code",
   "execution_count": null,
   "metadata": {},
   "outputs": [],
   "source": [
    "def run():\n",
    "    my_dict2={i: round(i**0.5,2) for i in range(1,1001)}\n",
    "    print(my_dict2)\n",
    "    print(\"javier como ha estado\")\n",
    "if __name__ == '__main__':\n",
    "    run()"
   ]
  },
  {
   "cell_type": "markdown",
   "metadata": {},
   "source": [
    "Funciones_Anónimas lambda"
   ]
  },
  {
   "cell_type": "code",
   "execution_count": 5,
   "metadata": {},
   "outputs": [
    {
     "name": "stdout",
     "output_type": "stream",
     "text": [
      "True\n"
     ]
    }
   ],
   "source": [
    "def run():\n",
    "    # def palindrome(string):\n",
    "    #     return string == string[::-1]\n",
    "    palindrome = lambda string: string==string[::-1]\n",
    "    print(palindrome('ana'))\n",
    "\n",
    "if __name__ == '__main__':\n",
    "    run()"
   ]
  },
  {
   "cell_type": "markdown",
   "metadata": {},
   "source": [
    "high order funtions: filter, map, reduce"
   ]
  },
  {
   "cell_type": "markdown",
   "metadata": {},
   "source": [
    "high order funtions: filter"
   ]
  },
  {
   "cell_type": "code",
   "execution_count": null,
   "metadata": {},
   "outputs": [],
   "source": [
    "def run():\n",
    "    my_list=[1,4,5,6,9,13,19,21]\n",
    "    #odd=[i for i in my_list if i % 2 !=0]\n",
    "    odd=list(filter(lambda x: x % 2 != 0, my_list))\n",
    "    print(odd)\n",
    "\n",
    "if __name__ == '__main__':\n",
    "    run()"
   ]
  },
  {
   "cell_type": "markdown",
   "metadata": {},
   "source": [
    "high order funtions: map"
   ]
  },
  {
   "cell_type": "code",
   "execution_count": 20,
   "metadata": {},
   "outputs": [
    {
     "name": "stdout",
     "output_type": "stream",
     "text": [
      "[1, 4, 9, 16, 25]\n"
     ]
    }
   ],
   "source": [
    "def run():\n",
    "    my_list =[1,2,3,4,5]\n",
    "    #squares = [i**2 for i in my_list]\n",
    "    odd=list(map(lambda  x: x**2, my_list))\n",
    "\n",
    "    print(odd)\n",
    "\n",
    "if __name__ == '__main__':\n",
    "    run()"
   ]
  },
  {
   "cell_type": "markdown",
   "metadata": {},
   "source": [
    "multiplied_add"
   ]
  },
  {
   "cell_type": "code",
   "execution_count": 24,
   "metadata": {},
   "outputs": [
    {
     "name": "stdout",
     "output_type": "stream",
     "text": [
      "32\n"
     ]
    }
   ],
   "source": [
    "from functools import reduce\n",
    "def run():\n",
    "    my_list = [2,2,2,2,2]\n",
    "    # all_multiplied = 1\n",
    "    # for i in my_list:\n",
    "    #     all_multiplied = all_multiplied * i\n",
    "    all_multiplied = reduce(lambda a, b : a *b, my_list)\n",
    "    print(all_multiplied)\n",
    "\n",
    "if __name__ == '__main__':\n",
    "    run()"
   ]
  },
  {
   "cell_type": "markdown",
   "metadata": {},
   "source": [
    "filtter_dates"
   ]
  },
  {
   "cell_type": "code",
   "execution_count": null,
   "metadata": {},
   "outputs": [],
   "source": [
    "def run():\n",
    "    pass\n",
    "\n",
    "if __name__ == '__main__':\n",
    "    run()"
   ]
  }
 ],
 "metadata": {
  "kernelspec": {
   "display_name": "Python 3.8.10 64-bit",
   "language": "python",
   "name": "python3"
  },
  "language_info": {
   "codemirror_mode": {
    "name": "ipython",
    "version": 3
   },
   "file_extension": ".py",
   "mimetype": "text/x-python",
   "name": "python",
   "nbconvert_exporter": "python",
   "pygments_lexer": "ipython3",
   "version": "3.8.10"
  },
  "orig_nbformat": 4,
  "vscode": {
   "interpreter": {
    "hash": "916dbcbb3f70747c44a77c7bcd40155683ae19c65e1c03b4aa3499c5328201f1"
   }
  }
 },
 "nbformat": 4,
 "nbformat_minor": 2
}
